{
 "cells": [
  {
   "cell_type": "code",
   "execution_count": 1,
   "metadata": {},
   "outputs": [],
   "source": [
    "import pandas as pd\n",
    "import sqlite3"
   ]
  },
  {
   "cell_type": "code",
   "execution_count": 2,
   "metadata": {},
   "outputs": [],
   "source": [
    "# Define the path to your CSV file\n",
    "csv_file_path = './providers.csv'\n",
    "sqlite_db_path = '../db/providers.db'"
   ]
  },
  {
   "cell_type": "code",
   "execution_count": 3,
   "metadata": {},
   "outputs": [],
   "source": [
    "# Define constants for CSV reading\n",
    "CSV_HEADER_OFFSET = 2  # skip first 2 rows\n",
    "cursor = 0  # Adjust as needed\n",
    "limit = None  # Adjust as needed"
   ]
  },
  {
   "cell_type": "code",
   "execution_count": 4,
   "metadata": {},
   "outputs": [],
   "source": [
    "df = pd.read_csv(csv_file_path, skiprows=CSV_HEADER_OFFSET + cursor, nrows=limit, dtype=str)"
   ]
  },
  {
   "cell_type": "code",
   "execution_count": 5,
   "metadata": {},
   "outputs": [],
   "source": [
    "def parse_int(value):\n",
    "    try:\n",
    "        return int(''.join(filter(str.isdigit, str(value)))) if pd.notnull(value) else None\n",
    "    except ValueError:\n",
    "        return None\n",
    "\n",
    "def parse_float(value):\n",
    "    try:\n",
    "        cleaned_value = ''.join(filter(lambda x: x.isdigit() or x == '.', str(value)))\n",
    "        # Handle cases with multiple periods (e.g., '3.53.9')\n",
    "        parts = cleaned_value.split('.')\n",
    "        if len(parts) > 2:\n",
    "            cleaned_value = parts[0] + '.' + ''.join(parts[1:])\n",
    "        return float(cleaned_value) if pd.notnull(value) else None\n",
    "    except ValueError:\n",
    "        return None\n",
    "\n",
    "def parse_bool(value):\n",
    "    return value.lower() == 'true' if pd.notnull(value) else None"
   ]
  },
  {
   "cell_type": "code",
   "execution_count": 6,
   "metadata": {},
   "outputs": [],
   "source": [
    "def transform_row(row):\n",
    "    if pd.isnull(row.iloc[1]):\n",
    "        return None\n",
    "    return {\n",
    "        'providerName': row.iloc[1],\n",
    "        'productName': row.iloc[2],\n",
    "        'country': row.iloc[3],\n",
    "        'location': row.iloc[4],\n",
    "        'cpuCores': parse_int(row.iloc[6]),\n",
    "        'cpuThreads': parse_int(row.iloc[8]),\n",
    "        'cpuGHZ': parse_float(row.iloc[9]),\n",
    "        'hasSGX': parse_bool(row.iloc[10]),\n",
    "        'ram': parse_int(row.iloc[41]),\n",
    "        'numberDrives': parse_int(row.iloc[43]),\n",
    "        'avgSizeDrive': parse_int(row.iloc[44]),\n",
    "        'storageTotal': parse_int(row.iloc[62]),\n",
    "        'gpuType': row.iloc[63],\n",
    "        'gpuMemory': f\"{row.iloc[64]}_{row.iloc[65]}\",\n",
    "        'bandwidthNetwork': parse_int(row.iloc[67]),\n",
    "        'network': parse_int(row.iloc[68]),\n",
    "        'priceHour': parse_float(row.iloc[74]),\n",
    "        'priceMonth': parse_float(row.iloc[77]),\n",
    "        'availability': row.iloc[79],\n",
    "        'source': row.iloc[80],\n",
    "        'unit': row.iloc[82],\n",
    "    }"
   ]
  },
  {
   "cell_type": "code",
   "execution_count": 7,
   "metadata": {},
   "outputs": [],
   "source": [
    "# Apply the transformation to each row\n",
    "transformed_data = df.apply(transform_row, axis=1).dropna().tolist()"
   ]
  },
  {
   "cell_type": "code",
   "execution_count": 8,
   "metadata": {},
   "outputs": [],
   "source": [
    "# Convert the list of dictionaries to a DataFrame\n",
    "transformed_df = pd.DataFrame(transformed_data)"
   ]
  },
  {
   "cell_type": "code",
   "execution_count": 9,
   "metadata": {},
   "outputs": [],
   "source": [
    "# Ensure the directory for the database exists\n",
    "import os\n",
    "os.makedirs(os.path.dirname(sqlite_db_path), exist_ok=True)"
   ]
  },
  {
   "cell_type": "code",
   "execution_count": 10,
   "metadata": {},
   "outputs": [],
   "source": [
    "# Write the transformed data to a SQLite database with an auto-incrementing id column\n",
    "with sqlite3.connect(sqlite_db_path) as conn:\n",
    "    cursor = conn.cursor()\n",
    "    # Create table with an auto-incrementing id column\n",
    "    cursor.execute('''\n",
    "        CREATE TABLE IF NOT EXISTS providers (\n",
    "            id INTEGER PRIMARY KEY AUTOINCREMENT,\n",
    "            providerName TEXT,\n",
    "            productName TEXT,\n",
    "            country TEXT,\n",
    "            location TEXT,\n",
    "            cpuCores INTEGER,\n",
    "            cpuThreads INTEGER,\n",
    "            cpuGHZ REAL,\n",
    "            hasSGX BOOLEAN,\n",
    "            ram INTEGER,\n",
    "            numberDrives INTEGER,\n",
    "            avgSizeDrive INTEGER,\n",
    "            storageTotal INTEGER,\n",
    "            gpuType TEXT,\n",
    "            gpuMemory TEXT,\n",
    "            bandwidthNetwork INTEGER,\n",
    "            network INTEGER,\n",
    "            priceHour REAL,\n",
    "            priceMonth REAL,\n",
    "            availability TEXT,\n",
    "            source TEXT,\n",
    "            unit TEXT\n",
    "        )\n",
    "    ''')\n",
    "\n",
    "    # Insert the DataFrame into the SQLite table\n",
    "    for row in transformed_df.itertuples(index=False, name=None):\n",
    "        cursor.execute('''\n",
    "            INSERT INTO providers (\n",
    "                providerName, productName, country, location, cpuCores, cpuThreads, cpuGHZ, hasSGX, ram, numberDrives, avgSizeDrive, storageTotal, gpuType, gpuMemory, bandwidthNetwork, network, priceHour, priceMonth, availability, source, unit\n",
    "            ) VALUES (?, ?, ?, ?, ?, ?, ?, ?, ?, ?, ?, ?, ?, ?, ?, ?, ?, ?, ?, ?, ?)\n",
    "        ''', row)\n",
    "    \n",
    "    conn.commit()"
   ]
  }
 ],
 "metadata": {
  "kernelspec": {
   "display_name": "my-gloria",
   "language": "python",
   "name": "python3"
  },
  "language_info": {
   "codemirror_mode": {
    "name": "ipython",
    "version": 3
   },
   "file_extension": ".py",
   "mimetype": "text/x-python",
   "name": "python",
   "nbconvert_exporter": "python",
   "pygments_lexer": "ipython3",
   "version": "3.11.9"
  }
 },
 "nbformat": 4,
 "nbformat_minor": 2
}
